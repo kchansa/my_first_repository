{
 "cells": [
  {
   "cell_type": "code",
   "execution_count": 1,
   "metadata": {},
   "outputs": [
    {
     "ename": "TypeError",
     "evalue": "can only concatenate list (not \"str\") to list",
     "output_type": "error",
     "traceback": [
      "\u001b[1;31m---------------------------------------------------------------------------\u001b[0m",
      "\u001b[1;31mTypeError\u001b[0m                                 Traceback (most recent call last)",
      "\u001b[1;32m<ipython-input-1-d8ed99116cbc>\u001b[0m in \u001b[0;36m<module>\u001b[1;34m()\u001b[0m\n\u001b[0;32m      1\u001b[0m \u001b[0mx\u001b[0m\u001b[1;33m=\u001b[0m\u001b[1;33m[\u001b[0m\u001b[1;36m1\u001b[0m\u001b[1;33m,\u001b[0m\u001b[1;36m2\u001b[0m\u001b[1;33m,\u001b[0m\u001b[1;36m3\u001b[0m\u001b[1;33m]\u001b[0m\u001b[1;33m\u001b[0m\u001b[0m\n\u001b[0;32m      2\u001b[0m \u001b[0my\u001b[0m\u001b[1;33m=\u001b[0m\u001b[1;34m'bootcamp'\u001b[0m\u001b[1;33m\u001b[0m\u001b[0m\n\u001b[1;32m----> 3\u001b[1;33m \u001b[0mz\u001b[0m\u001b[1;33m=\u001b[0m\u001b[0mx\u001b[0m\u001b[1;33m+\u001b[0m\u001b[0my\u001b[0m\u001b[1;33m\u001b[0m\u001b[0m\n\u001b[0m",
      "\u001b[1;31mTypeError\u001b[0m: can only concatenate list (not \"str\") to list"
     ]
    }
   ],
   "source": [
    "x=[1,2,3]\n",
    "y='bootcamp'\n",
    "z=x+y"
   ]
  },
  {
   "cell_type": "markdown",
   "metadata": {},
   "source": [
    "1) It produces an error because a list and a string cannot be concatenated\n",
    "\n"
   ]
  },
  {
   "cell_type": "markdown",
   "metadata": {},
   "source": [
    "2) type() function tells you what data type the variables are and by using len() function we can get the lenghth"
   ]
  },
  {
   "cell_type": "code",
   "execution_count": 7,
   "metadata": {},
   "outputs": [
    {
     "name": "stdout",
     "output_type": "stream",
     "text": [
      "<class 'str'>\n",
      "<class 'float'>\n",
      "<class 'str'>\n",
      "<class 'bool'>\n",
      "<class 'bool'>\n",
      "<class 'list'>\n",
      "<class 'tuple'>\n",
      "<class 'dict'>\n"
     ]
    }
   ],
   "source": [
    "print(type('2'))\n",
    "print(type(2.0))\n",
    "print(type(\"2.0\"))\n",
    "print(type(2>1))\n",
    "print(type('Itmar'>'Chase'))\n",
    "print(type([1,2]))\n",
    "print(type((1,2)))\n",
    "print(type({1:'one',2:'two'}))"
   ]
  },
  {
   "cell_type": "markdown",
   "metadata": {},
   "source": [
    "3)The types are listed above and are found using the function type()"
   ]
  },
  {
   "cell_type": "markdown",
   "metadata": {},
   "source": [
    "4) Question 4"
   ]
  },
  {
   "cell_type": "code",
   "execution_count": 10,
   "metadata": {
    "scrolled": true
   },
   "outputs": [
    {
     "name": "stdout",
     "output_type": "stream",
     "text": [
      "True\n",
      "True\n",
      "False\n",
      "True\n",
      "True\n",
      "True\n",
      "False\n",
      "True\n",
      "True\n"
     ]
    }
   ],
   "source": [
    "print(1>=0)\n",
    "print(1 >= 1)\n",
    "print(1 > 1)\n",
    "print(1==1)\n",
    "print(1 == 1.0)\n",
    "print('Spencer' == \"Spencer\")\n",
    "print(2**3 > 3**2)\n",
    "print(1 >= 0 or 1 <= 2)\n",
    "print(1 >= 0 and 1 <= 2)\n"
   ]
  },
  {
   "cell_type": "code",
   "execution_count": 20,
   "metadata": {},
   "outputs": [
    {
     "name": "stdout",
     "output_type": "stream",
     "text": [
      "Yes, 2 is still greater than 1\n"
     ]
    }
   ],
   "source": [
    "#question 5\n",
    "#the code runs without an error\n",
    "if 2>1:\n",
    "    print('Yes, 2 is still greater than 1')"
   ]
  },
  {
   "cell_type": "code",
   "execution_count": 25,
   "metadata": {},
   "outputs": [
    {
     "name": "stdout",
     "output_type": "stream",
     "text": [
      "on the one hand\n"
     ]
    }
   ],
   "source": [
    "#question 6\n",
    "if True:\n",
    "    print('on the one hand')\n",
    "else:\n",
    "    print('but on the other hand')"
   ]
  },
  {
   "cell_type": "markdown",
   "metadata": {},
   "source": [
    "By default the if statement is always set to true hence it prints the case for true:\"On the one hand\""
   ]
  },
  {
   "cell_type": "code",
   "execution_count": 26,
   "metadata": {},
   "outputs": [
    {
     "name": "stdout",
     "output_type": "stream",
     "text": [
      "but on the other hand\n"
     ]
    }
   ],
   "source": [
    "if False:\n",
    "    print('on the one hand')\n",
    "else:\n",
    "    print('but on the other hand')"
   ]
  },
  {
   "cell_type": "code",
   "execution_count": 28,
   "metadata": {},
   "outputs": [
    {
     "name": "stdout",
     "output_type": "stream",
     "text": [
      "on the one hand\n"
     ]
    }
   ],
   "source": [
    "if not False:\n",
    "    print('on the one hand')\n",
    "else:\n",
    "    print('but on the other hand')"
   ]
  },
  {
   "cell_type": "code",
   "execution_count": 34,
   "metadata": {},
   "outputs": [],
   "source": [
    "#question 7) the code creates a variable x and assigns the value \"Chase\" \n",
    "#this is because the if condition cond has the value true so the if statement evaluates as true\n",
    "cond = True\n",
    "if cond:\n",
    "    x = \"Chase\"\n",
    "else:\n",
    "    x = \"Dave\"\n",
    "    print(x)"
   ]
  },
  {
   "cell_type": "code",
   "execution_count": 43,
   "metadata": {},
   "outputs": [
    {
     "name": "stdout",
     "output_type": "stream",
     "text": [
      "X has more elements than y\n"
     ]
    }
   ],
   "source": [
    "x = [1,2,3,4]\n",
    "y = ['x', 'y', 'z']\n",
    "if len(x)>len(y) :\n",
    "    print(\"X has more elements than y\")\n",
    "elif len(y)>len(x):\n",
    "    print(\"y has more elements than x\")   \n",
    "else:\n",
    "    print(\"x and y are of equal length\")\n"
   ]
  },
  {
   "cell_type": "markdown",
   "metadata": {},
   "source": [
    "question 9)\n",
    "when you slice in python you return the values in the range of indices specified in the arguments when calling the function"
   ]
  },
  {
   "cell_type": "code",
   "execution_count": 49,
   "metadata": {},
   "outputs": [
    {
     "name": "stdout",
     "output_type": "stream",
     "text": [
      "the first element is:  1\n",
      "all but the last element: [1, 2, 3, 4]\n"
     ]
    }
   ],
   "source": [
    "#question 10\n",
    "x = [1, 2, 3, 4, 5]\n",
    "print('the first element is: ',x[0]) #this is to extract the first element\n",
    "print('all but the last element:',x[:-1]) #this is to extract all but the last element"
   ]
  },
  {
   "cell_type": "code",
   "execution_count": 76,
   "metadata": {},
   "outputs": [
    {
     "data": {
      "text/plain": [
       "'it'"
      ]
     },
     "execution_count": 76,
     "metadata": {},
     "output_type": "execute_result"
    }
   ],
   "source": [
    "#question 11\n",
    "sentence = 'This is a sentence; please slice it.'\n",
    "sentence[0:4]\n",
    "sentence[5:8]\n",
    "sentence[8]\n",
    "sentence[10:18]\n",
    "sentence[20:26]\n",
    "sentence[27:32]\n",
    "sentence[33:35]\n"
   ]
  },
  {
   "cell_type": "code",
   "execution_count": 82,
   "metadata": {},
   "outputs": [
    {
     "data": {
      "text/plain": [
       "['b', 'fast', 'slow', 3]"
      ]
     },
     "execution_count": 82,
     "metadata": {},
     "output_type": "execute_result"
    }
   ],
   "source": [
    "x = [1, 2, \"a\", 'b', \"fast\", 'slow', 3, \"Raghu\", 'Liuren', 10]\n",
    "x[0]\n",
    "x[-1]\n",
    "x[3:7]"
   ]
  },
  {
   "cell_type": "code",
   "execution_count": 5,
   "metadata": {},
   "outputs": [
    {
     "name": "stdout",
     "output_type": "stream",
     "text": [
      "1\n",
      "2\n",
      "a\n",
      "b\n",
      "fast\n",
      "slow\n",
      "3\n",
      "Raghu\n",
      "Liuren\n",
      "10\n"
     ]
    }
   ],
   "source": [
    "#Question 13\n",
    "x = [1, 2, \"a\", 'b', \"fast\", 'slow', 3, \"Raghu\", 'Liuren', 10]\n",
    "for a in x:\n",
    "    print(a)"
   ]
  },
  {
   "cell_type": "code",
   "execution_count": 7,
   "metadata": {},
   "outputs": [
    {
     "name": "stdout",
     "output_type": "stream",
     "text": [
      "a\n",
      "b\n",
      "fast\n",
      "slow\n",
      "Raghu\n",
      "Liuren\n"
     ]
    }
   ],
   "source": [
    "#question 14\n",
    "x = [1, 2, \"a\", 'b', \"fast\", 'slow', 3, \"Raghu\", 'Liuren', 10]\n",
    "for a in x:\n",
    "    if (type(a)==str):\n",
    "        print(a)"
   ]
  },
  {
   "cell_type": "code",
   "execution_count": 12,
   "metadata": {},
   "outputs": [
    {
     "name": "stdout",
     "output_type": "stream",
     "text": [
      "3\n",
      "5\n",
      "7\n",
      "9\n",
      "11\n"
     ]
    }
   ],
   "source": [
    "\n",
    "for i in range(3, 12, 2):\n",
    "    print(i)"
   ]
  },
  {
   "cell_type": "markdown",
   "metadata": {},
   "source": [
    "Question 15. The range function returns an object that produces a sequence of integers from start (inclusive) to stop (exclusive) by step. range(3,12,2) will therefore start with 3 and omit the last integer 12 and has a step of 2. It prints: 3,5,7,9,11 as shown above."
   ]
  },
  {
   "cell_type": "code",
   "execution_count": 22,
   "metadata": {},
   "outputs": [
    {
     "name": "stdout",
     "output_type": "stream",
     "text": [
      "165\n"
     ]
    }
   ],
   "source": [
    "#question 16\n",
    "a=0\n",
    "for i in range(0,31,3):\n",
    "    a=a+i\n",
    "print(a)"
   ]
  },
  {
   "cell_type": "code",
   "execution_count": 46,
   "metadata": {},
   "outputs": [
    {
     "name": "stdout",
     "output_type": "stream",
     "text": [
      "$ 1.41\n"
     ]
    }
   ],
   "source": [
    "#question 17\n",
    "def pocketChange(a,b,c,d):\n",
    "    penny=1*a\n",
    "    nickle=5*b\n",
    "    dime=10*c\n",
    "    quarter=25*d\n",
    "    value=(penny+nickle+dime+quarter)/100\n",
    "    print(\"$\",value)\n",
    "pocketChange(1,2,3,4)"
   ]
  },
  {
   "cell_type": "code",
   "execution_count": 50,
   "metadata": {},
   "outputs": [
    {
     "data": {
      "text/plain": [
       "[1234, 4321, 9876]"
      ]
     },
     "execution_count": 50,
     "metadata": {},
     "output_type": "execute_result"
    }
   ],
   "source": [
    "#question 18\n",
    "def notsix(numbers):\n",
    "    numbers_2 = []\n",
    "    for i in numbers:\n",
    "        numstr = str(i)\n",
    "        if numstr[0] != '6':\n",
    "            numbers_2.append(i)\n",
    "    return numbers_2\n",
    "notsix([1234, 6783, 6, 4321, 9876])"
   ]
  },
  {
   "cell_type": "code",
   "execution_count": 51,
   "metadata": {},
   "outputs": [
    {
     "data": {
      "text/plain": [
       "[1234, 4321, 9876]"
      ]
     },
     "execution_count": 51,
     "metadata": {},
     "output_type": "execute_result"
    }
   ],
   "source": [
    "def notsix(numlist):\n",
    "    newlist = []\n",
    "    for num in numlist:\n",
    "        numstr = str(num)\n",
    "        if numstr[0] != '6':\n",
    "            newlist.append(num)\n",
    "    return newlist\n",
    "notsix([1234, 6783, 6, 4321, 9876])"
   ]
  },
  {
   "cell_type": "code",
   "execution_count": 54,
   "metadata": {},
   "outputs": [
    {
     "name": "stdout",
     "output_type": "stream",
     "text": [
      "[1234, 4321, 9876]\n"
     ]
    }
   ],
   "source": [
    "#question 19\n",
    "old_list = [1234, 6783, 6, 4321, 9876]\n",
    "new_list = [x for x in old_list if str(x)[0] != \"6\"]\n",
    "print(new_list)"
   ]
  },
  {
   "cell_type": "markdown",
   "metadata": {},
   "source": [
    "It does the same thing as question 18 above. if the first number in each of the old list sublists starts with 6, it exludes the list from the new_list list."
   ]
  },
  {
   "cell_type": "code",
   "execution_count": 55,
   "metadata": {},
   "outputs": [],
   "source": [
    "z = {1: 'one', 2: 'two', 3: 'three'}"
   ]
  },
  {
   "cell_type": "code",
   "execution_count": 56,
   "metadata": {},
   "outputs": [
    {
     "name": "stdout",
     "output_type": "stream",
     "text": [
      "{1: 'one', 2: 'two', 3: 'three'}\n"
     ]
    }
   ],
   "source": [
    "print(z)"
   ]
  },
  {
   "cell_type": "markdown",
   "metadata": {},
   "source": [
    "a)z is a dictionary with 3 objects.\n",
    "b)1,2,3 are keys and 'one','two','three' are values\n",
    "c)z[2]\n",
    "d)z.keys returns the value of all the keys. z.values returns the value of all the values\n",
    "e)list(z.keys()) creates a list with the keys of the dictionary, z as elements in the list\n",
    "f)list(z.values()) creates a list with the values of the dictionary, z as elements in the list\n",
    "g) same as e above"
   ]
  }
 ],
 "metadata": {
  "kernelspec": {
   "display_name": "Python 3",
   "language": "python",
   "name": "python3"
  },
  "language_info": {
   "codemirror_mode": {
    "name": "ipython",
    "version": 3
   },
   "file_extension": ".py",
   "mimetype": "text/x-python",
   "name": "python",
   "nbconvert_exporter": "python",
   "pygments_lexer": "ipython3",
   "version": "3.6.5"
  }
 },
 "nbformat": 4,
 "nbformat_minor": 2
}
